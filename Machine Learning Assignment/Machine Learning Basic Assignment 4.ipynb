{
 "cells": [
  {
   "cell_type": "code",
   "execution_count": null,
   "id": "0951be56-f8a6-4b7d-ab1c-401b6832de60",
   "metadata": {},
   "outputs": [],
   "source": [
    "# 1. What are the key tasks involved in getting ready to work with machine learning modeling ?\n",
    "# Ans: The Key Tasks involved in getting ready to work with Machine learning Modelling are:\n",
    "\n",
    "# Data collection: Defining the problem and assembling a dataset.\n",
    "# Data preparation: Preparing your data.\n",
    "# Choosing a Model\n",
    "# Training the Model: Developing a model that does better than a baseline.\n",
    "# Evaluating the Model: Choosing a measure of success. Deciding on an evaluation protocol.\n",
    "# Parameter tuning: Scaling up: developing a model that overfits.Regularizing your model and tuning your parameters.\n",
    "# Prediction or Inference."
   ]
  },
  {
   "cell_type": "code",
   "execution_count": null,
   "id": "f0018b26-f63d-42cf-8bb9-98b3b8ec73a1",
   "metadata": {},
   "outputs": [],
   "source": [
    "# 2. What are the different forms of data used in machine learning ? Give a specific example for each of them ?\n",
    "# Ans: Most data can be categorized into 4 basic types from a Machine Learning perspective: Numerical Data, Categorical Data, \n",
    "# Time-Series Data, and Text data.\n",
    "\n",
    "# Numerical Data:\n",
    "# Numerical data is any data where data points are exact numbers. Statisticians also might call numerical data, quantitative data. \n",
    "# This data has meaning as a measurement such as house prices or as a count, such as a number of residential properties in Los Angeles\n",
    "# or how many houses sold in the past year.\n",
    "\n",
    "# Categorical Data:\n",
    "# Categorical data represents characteristics, such as a hockey player’s position, team, hometown. Categorical data can take numerical values. \n",
    "# For example, maybe we would use 1 for the colour red and 2 for blue\n",
    "\n",
    "# Time Series Data:\n",
    "# Time series data is a sequence of numbers collected at regular intervals over some period of time. It is very important, \n",
    "# especially in particular fields like finance. Time series data has a temporal value attached to it, \n",
    "# so this would be something like a date or a timestamp that you can look for trends in time.\n",
    "\n",
    "# Text:\n",
    "# Text data is basically just words. A lot of the time the first thing that you do with text is you \n",
    "# turn it into numbers using some interesting functions like the bag of words formulation.\n"
   ]
  },
  {
   "cell_type": "code",
   "execution_count": null,
   "id": "9b82c3c9-8c22-411d-b0a1-0126c71e886b",
   "metadata": {},
   "outputs": [],
   "source": [
    "# 3. Distinguish between :\n",
    "# Numeric vs. categorical attributes\n",
    "# Feature selection vs. dimensionality reduction\n",
    "\n",
    "# 1. Numeric attributes are those that have a numerical value associated with them, such as age, height, weight, or salary.\n",
    "# 2. Categorical attributes, on the other hand, are those that do not have a numerical value associated with them,\n",
    "# but rather belong to a certain category or group. \n",
    "# For example, gender, occupation, or marital status are categorical attributes\n",
    "\n",
    "\n",
    "# Feature selection and dimensionality reduction are both techniques used to reduce the number of features in a dataset, \n",
    "# but they differ in their approach and purpose.\n",
    "\n",
    "# Feature selection involves selecting a subset of the original features that are most relevant or informative for the problem at hand. \n",
    "# This can be done using various techniques such as correlation analysis, mutual information, or feature importance ranking.\n",
    "\n",
    "# Dimensionality reduction, on the other hand, involves transforming the original features into a \n",
    "# lower-dimensional space while retaining as much information as possible. \n",
    "# This can be done using techniques such as principal component analysis (PCA)\n"
   ]
  },
  {
   "cell_type": "code",
   "execution_count": null,
   "id": "fcb0e12d-8701-4b67-82ba-1a91c3d6385c",
   "metadata": {},
   "outputs": [],
   "source": [
    "# . Make quick notes on any two of the following ?\n",
    "# The histogram\n",
    "# Use a scatter plot\n",
    "# PCA (Personal Computer Aid)\n",
    "\n",
    "# Ans: The Quick notes on the following three topics is:\n",
    "# The histogram: A Histogram is a graphical representation that organizes a group of data points into user-specified ranges. \n",
    "# Similar in appearance to a bar graph, the histogram condenses a data series into an easily interpreted visual by taking \n",
    "# many data points and grouping them into logical ranges or bins.\n",
    "\n",
    "# Use a scatter plot: A scatter plot (aka scatter chart, scatter graph) uses dots to represent values for two\n",
    "# different numeric variables. The position of each dot on the horizontal and vertical axis indicates values for an \n",
    "# individual data point. Scatter plots are used to observe relationships between variables.\n",
    "\n",
    "# PCA (Personal Computer Aid): Principal Component Analysis or PCA is a widely used technique for dimensionality\n",
    "# reduction of the large data set. Reducing the number of components or features costs some accuracy and on\n",
    "# the other hand, it makes the large data set simpler, easy to explore and visualize."
   ]
  },
  {
   "cell_type": "code",
   "execution_count": null,
   "id": "42707e5d-5580-4ec1-8200-fb06ee736410",
   "metadata": {},
   "outputs": [],
   "source": [
    "# 5. Why is it necessary to investigate data? Is there a discrepancy in how qualitative and quantitative data are explored ?\n",
    "\n",
    "# Ans: If your data set is messy, building models will not help you to solve your problem. \n",
    "# What will happen is Garbage In, Garbage Out. In order to build a powerful machine learning algorithm. \n",
    "# We need to explore and understand our data set before we define a predictive task and solve it."
   ]
  },
  {
   "cell_type": "code",
   "execution_count": null,
   "id": "5e8f3d09-c7ce-42c7-bfce-d45531dfd2ec",
   "metadata": {},
   "outputs": [],
   "source": [
    "# 6. What are the various histogram shapes? What exactly are ‘bins' ?\n",
    "# Ans: The different types of a Histogram are:\n",
    "# Uniform Histogram\n",
    "# Symmetric Histogram\n",
    "# Bimodal Histogram\n",
    "# Probability Histogram.\n",
    "\n",
    "# The bin in a histogram is the choice of unit and spacing on the X-axis. All the data in a probability distribution represented\n",
    "# visually by a histogram is filled into the corresponding bins.\n",
    "# The height of each bin is a measurement of the frequency with which data appears inside the range of that bin in the distribution."
   ]
  },
  {
   "cell_type": "code",
   "execution_count": null,
   "id": "ab6e2d2c-9c46-4d90-8b56-fc7b46cbc777",
   "metadata": {},
   "outputs": [],
   "source": [
    "# 7. How do we deal with data outliers ?\n",
    "# Ans: We can use Z-Score or any of below methods to deal with data outliers:\n",
    "\n",
    "# Univariate Method: This method looks for data points with extreme values on one variable.\n",
    "\n",
    "# Multivariate Method: Here, we look for unusual combinations of all the variables.\n",
    "\n",
    "# Minkowski Error: This method reduces the contribution of potential outliers in the training process.\n",
    "\n",
    "# Z-Score: This can be done with just one line code as we have already calculated the Z-score.\n",
    "# boston_df_o = boston_df_o[(z < 3).all(axis=1)]\n",
    "\n",
    "# IQR Score: Calculate IQR score to filter out the outliers by keeping only valid values.\n",
    "# boston_df_out = boston_df_o1[~((boston_df_o1 < (Q1 - 1.5 * IQR)) |(boston_df_o1 > (Q3 + 1.5 *IQR))).any(axis=1)]\n",
    "# boston_df_out.shape\n",
    "\n",
    "# Quantile function: Use quantile() to remove amount of data."
   ]
  },
  {
   "cell_type": "code",
   "execution_count": null,
   "id": "44821069-4d3d-4593-82df-78783c35b8ec",
   "metadata": {},
   "outputs": [],
   "source": [
    "# 8. What are the various central inclination measures? Why does mean vary too much from median in certain data sets ?\n",
    "\n",
    "# Ans: Mean, Median and Mode are Central Inclination Measures. Mean varies more than Median due to presence of outliers,\n",
    "# as mean is averaging all points while median in like finding a middle number."
   ]
  },
  {
   "cell_type": "code",
   "execution_count": null,
   "id": "612e7f55-b17b-4464-9928-ebe68434a435",
   "metadata": {},
   "outputs": [],
   "source": [
    "# 9. Describe how a scatter plot can be used to investigate bivariate relationships. Is it possible to find outliers using a scatter plot ?\n",
    "# Ans: A Scatter Plot (aka scatter chart, scatter graph) uses dots to represent values for two different numeric variables. The position of each dot on the horizontal and vertical axis indicates values for an individual data point. So this visualization gives us the idea of bivariate relationship.\n",
    "\n",
    "# Scatter plot can also help finding outliers as outliers can be visualized at farther distance than regular data."
   ]
  },
  {
   "cell_type": "code",
   "execution_count": 2,
   "id": "2e6b946f-5f1a-47c4-8f76-f5be15bc663f",
   "metadata": {},
   "outputs": [
    {
     "name": "stdout",
     "output_type": "stream",
     "text": [
      "Grade    A  B  C  D\n",
      "Subject            \n",
      "English  1  1  1  1\n",
      "Math     1  1  1  1\n",
      "Science  1  1  1  1\n"
     ]
    }
   ],
   "source": [
    "# 10. Describe how cross-tabs can be used to figure out how two variables are related ?\n",
    "\n",
    "\n",
    "# Cross-tabulation, or simply \"cross-tabs,\" is a statistical method used to analyze the relationship between two categorical variables. \n",
    "# It involves creating a table that shows the frequency distribution of each combination of categories for the two variables.\n",
    "\n",
    "# To illustrate how cross-tabs can be used to figure out how two variables are related, \n",
    "# let's consider an example dataset of student grades in a class. The dataset has two categorical variables: \n",
    "# the subject of the exam (Math, Science, or English) and the grade level (A, B, C, or D).\n",
    "\n",
    "\n",
    "import pandas as pd\n",
    "\n",
    "# create a sample dataset\n",
    "data = {'Subject': ['Math', 'Science', 'English', 'Math', 'Science', 'English', 'Math', 'Science', 'English', 'Math', 'Science', 'English'],\n",
    "        'Grade': ['A', 'B', 'C', 'D', 'A', 'B', 'C', 'D', 'A', 'B', 'C', 'D']}\n",
    "df = pd.DataFrame(data)\n",
    "\n",
    "# create a cross-tab of Subject and Grade\n",
    "cross_tab = pd.crosstab(df['Subject'], df['Grade'])\n",
    "print(cross_tab)"
   ]
  },
  {
   "cell_type": "code",
   "execution_count": null,
   "id": "42a8d907-1768-4c1f-a6d6-2906fc4b9ffc",
   "metadata": {},
   "outputs": [],
   "source": [
    "# This cross-tab shows that each subject has an equal number of grades in each grade level. From this, we can conclude that there is no significant relationship between the subject of the exam and the grade level."
   ]
  }
 ],
 "metadata": {
  "kernelspec": {
   "display_name": "Python 3 (ipykernel)",
   "language": "python",
   "name": "python3"
  },
  "language_info": {
   "codemirror_mode": {
    "name": "ipython",
    "version": 3
   },
   "file_extension": ".py",
   "mimetype": "text/x-python",
   "name": "python",
   "nbconvert_exporter": "python",
   "pygments_lexer": "ipython3",
   "version": "3.10.6"
  }
 },
 "nbformat": 4,
 "nbformat_minor": 5
}
