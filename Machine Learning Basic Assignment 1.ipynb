{
 "cells": [
  {
   "cell_type": "code",
   "execution_count": null,
   "id": "0219410c",
   "metadata": {},
   "outputs": [],
   "source": [
    "\n",
    "# 1. What does one mean by the term \"machine learning\" ?\n",
    "\n",
    "# Ans.\n",
    "#     It is a subset of AI that allows machines to automatically learn and improve from experience, without being explicitly programmed for every task.\n",
    "#     The goal of machine learning is to create computer programs that can improve their performance at a given task over time by learning from new data."
   ]
  },
  {
   "cell_type": "code",
   "execution_count": null,
   "id": "0e5e9ca3",
   "metadata": {},
   "outputs": [],
   "source": [
    "# 2.Can you think of 4 distinct types of issues where it shines?\n",
    "\n",
    "\n",
    "# Here are four distinct types of issues where machine learning can shine:\n",
    "\n",
    "# Pattern Recognition: Machine learning algorithms excel at recognizing patterns in data, such as identifying faces in images, detecting spam emails, or predicting fraudulent transactions.\n",
    "\n",
    "# Natural Language Processing: Machine learning is also well-suited for natural language processing (NLP), which involves teaching machines to understand and interpret human language. Applications of NLP include language translation, sentiment analysis, and chatbots.\n",
    "\n",
    "# Personalization: Machine learning algorithms can be used to personalize content or experiences for individual users, such as suggesting products or services based on past behavior, or customizing news feeds based on a user's interests.\n",
    "\n",
    "# Predictive Modeling: Machine learning is also useful for building predictive models, which can be used to forecast future outcomes based on historical data. "
   ]
  },
  {
   "cell_type": "code",
   "execution_count": null,
   "id": "8b2ba402",
   "metadata": {},
   "outputs": [],
   "source": [
    "# 3.What is a labeled training set, and how does it work?\n",
    "\n",
    "# Ans: You split up the data containing known response variable values into two pieces. The training set is used to train the algorithm, and then you use the trained model on the test set to predict the response variable values that are already known."
   ]
  },
  {
   "cell_type": "code",
   "execution_count": null,
   "id": "0aeb323f",
   "metadata": {},
   "outputs": [],
   "source": [
    "# 4.What are the two most important tasks that are supervised ?\n",
    "\n",
    "# Ans: The two most common supervised learning tasks are Regression and Classification."
   ]
  },
  {
   "cell_type": "code",
   "execution_count": null,
   "id": "9f44aeff",
   "metadata": {},
   "outputs": [],
   "source": [
    "# 5.Can you think of four examples of unsupervised tasks ?\n",
    "# Ans: Four common Unsupervised Tasks included : Clustering , Dimension Reducution,Anamoly Detection,Association Rule Learning."
   ]
  },
  {
   "cell_type": "code",
   "execution_count": null,
   "id": "03d13d8e",
   "metadata": {},
   "outputs": [],
   "source": [
    "# 6.State the machine learning model that would be best to make a robot walk through various unfamiliar terrains ?\n",
    "\n",
    "# Reinforcement learning involves training a model to make a sequence of decisions in an environment that maximizes a reward signal. \n",
    "# In the case of a robot walking through various unfamiliar terrains, the reward signal could be based on the distance traveled,\n",
    "# the energy expended, or the time taken to complete the task."
   ]
  },
  {
   "cell_type": "code",
   "execution_count": null,
   "id": "62609d4f",
   "metadata": {},
   "outputs": [],
   "source": [
    "# 7.Which algorithm will you use to divide your customers into different groups ?\n",
    "# Ans: The Best Algorithm to Segment Customers into different groups is either Supervised Learning (if the groups have known labels) or Unsupervised Learning (if there are no group labels)."
   ]
  },
  {
   "cell_type": "code",
   "execution_count": null,
   "id": "ae79b5d0",
   "metadata": {},
   "outputs": [],
   "source": [
    "# 8.Will you consider the problem of spam detection to be a supervised or unsupervised learning problem ?\n",
    "# Ans: Spam detection is a Supervised Machine Learning problem because the labels are known (spam or no spam)."
   ]
  },
  {
   "cell_type": "code",
   "execution_count": null,
   "id": "da28de13",
   "metadata": {},
   "outputs": [],
   "source": [
    "# 9.What is the concept of an online learning system ?\n",
    "\n",
    "# Ans: Online learning system is a learning system in which the machine learns continously, as data is given in small streams continuously."
   ]
  },
  {
   "cell_type": "code",
   "execution_count": null,
   "id": "a141e7dc",
   "metadata": {},
   "outputs": [],
   "source": [
    "# # 10.What is out-of-core learning, and how does it differ from core learning ?\n",
    "\n",
    "\n",
    "# Out-of-core learning is a type of machine learning technique used for training models on large datasets \n",
    "# that cannot fit into the memory of a single computer.\n",
    "# It differs from core learning, where the entire dataset\n",
    "# is loaded into the memory of a single machine for training.\n",
    "\n",
    "# In out-of-core learning, the dataset is stored on disk and processed \n",
    "# in small batches that fit into the memory of the machine. \n",
    "# The model is trained iteratively on each batch of data, updating the model parameters incrementally"
   ]
  },
  {
   "cell_type": "code",
   "execution_count": null,
   "id": "b7507acf",
   "metadata": {},
   "outputs": [],
   "source": [
    "# 11.What kind of learning algorithm makes predictions using a similarity measure ?\n",
    "\n",
    "# Ans: Learning algorithm that relies on a similarity measure to make predictions is Instance Based Algorithm."
   ]
  },
  {
   "cell_type": "code",
   "execution_count": null,
   "id": "b58b0655",
   "metadata": {},
   "outputs": [],
   "source": [
    "# 12.What's the difference between a model parameter and a hyperparameter in a learning algorithm ?\n",
    "\n",
    "# Ans: Model parameter determines how a model will predict given a new instance. Model usually has more than one parameter (i.e. slope of a linear model). Hyperparameter is a parameter for the learning algorithm, not of a model."
   ]
  },
  {
   "cell_type": "code",
   "execution_count": null,
   "id": "1d29c701",
   "metadata": {},
   "outputs": [],
   "source": [
    "# 13.What are the criteria that model-based learning algorithms look for? What is the most popular method they use to achieve success? What method do they use to make predictions ?\n",
    "\n",
    "# Model-based learning algorithms aim to build a mathematical model of the relationship between\n",
    "# the input variables (features) and the output variable (target) based on a set of training examples. \n",
    "# The criteria that model-based learning algorithms look for include:\n",
    "\n",
    "# Goodness of fit: The model should accurately capture the underlying patterns and relationships in the training data.\n",
    "\n",
    "# Simplicity: The model should be simple and interpretable to allow for easy understanding and explainability.\n",
    "\n",
    "# Generalization: The model should be able to make accurate predictions on new, unseen data, not just on the training data.\n",
    "\n",
    "# To achieve success, model-based learning algorithms use various techniques, such as regularization, \n",
    "# feature selection, and model selection, to find the best model that\n",
    "# balances goodness of fit, simplicity, and generalization."
   ]
  },
  {
   "cell_type": "code",
   "execution_count": null,
   "id": "3bcccd51",
   "metadata": {},
   "outputs": [],
   "source": [
    "# 14.Can you name four of the most important Machine Learning challenges ?\n",
    "# Ans: Four main challenges in Machine Learning include the following:\n",
    "\n",
    "# Overfitting the Data (using a model too complicated)\n",
    "# Data quality\n",
    "# Underfitting\n",
    "# Non Representative Data."
   ]
  },
  {
   "cell_type": "code",
   "execution_count": null,
   "id": "5a6d1ffe",
   "metadata": {},
   "outputs": [],
   "source": [
    "# 15.What happens if the model performs well on the training data but fails to generalize the results to new situations? Can you think of three different options ?\n",
    "# Ans: If the model performs poorly to new instances, then it has overfitted on the training data. To solve this, we can do any of the following three:\n",
    "\n",
    "# Get more data\n",
    "# Implement a simpler model\n",
    "# Eliminate outliers or noise from the existing data set."
   ]
  },
  {
   "cell_type": "code",
   "execution_count": null,
   "id": "c8c77ebe",
   "metadata": {},
   "outputs": [],
   "source": [
    "# 16.What exactly is a test set, and why would you need one ?\n",
    "# Ans: Test set is a set to test your model (fit using training data) to see how it performs.Test set is necessary to determine how good (or bad) a model performs."
   ]
  },
  {
   "cell_type": "code",
   "execution_count": null,
   "id": "36004a14",
   "metadata": {},
   "outputs": [],
   "source": [
    "# 17.What is a validation set's purpose ?\n",
    "# Ans: Validation set is a set used to compare between different training models."
   ]
  },
  {
   "cell_type": "code",
   "execution_count": null,
   "id": "87611a40",
   "metadata": {},
   "outputs": [],
   "source": [
    "# 18.What precisely is the train-dev kit, when will you need it, how do you put it to use ?\n",
    "# Ans: Cross-validation is a tool to compare models without needing a separate validation set. \n",
    "# It is preferred over validation set because we can save from breaking of part of the training set to create a validation set, \n",
    "# as having more data is valuable regardless."
   ]
  },
  {
   "cell_type": "code",
   "execution_count": null,
   "id": "7cff80ef",
   "metadata": {},
   "outputs": [],
   "source": [
    "# 19.What could go wrong if you use the test set to tune hyperparameters ?\n",
    "# Ans: If you tune hyperparameters using the test sets, then it may not perform well on the out-of-sample data because the model is tuned just for that specific set."
   ]
  }
 ],
 "metadata": {
  "kernelspec": {
   "display_name": "Python 3 (ipykernel)",
   "language": "python",
   "name": "python3"
  },
  "language_info": {
   "codemirror_mode": {
    "name": "ipython",
    "version": 3
   },
   "file_extension": ".py",
   "mimetype": "text/x-python",
   "name": "python",
   "nbconvert_exporter": "python",
   "pygments_lexer": "ipython3",
   "version": "3.11.1"
  }
 },
 "nbformat": 4,
 "nbformat_minor": 5
}
